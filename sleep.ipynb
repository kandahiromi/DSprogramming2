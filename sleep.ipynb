{
 "cells": [
  {
   "cell_type": "code",
   "execution_count": 1,
   "metadata": {},
   "outputs": [
    {
     "name": "stderr",
     "output_type": "stream",
     "text": [
      "/Users/kandahiromi/Library/Python/3.9/lib/python/site-packages/urllib3/__init__.py:34: NotOpenSSLWarning: urllib3 v2.0 only supports OpenSSL 1.1.1+, currently the 'ssl' module is compiled with 'LibreSSL 2.8.3'. See: https://github.com/urllib3/urllib3/issues/3020\n",
      "  warnings.warn(\n"
     ]
    }
   ],
   "source": [
    "from bs4 import BeautifulSoup\n",
    "import requests\n",
    "import time"
   ]
  },
  {
   "cell_type": "code",
   "execution_count": 2,
   "metadata": {},
   "outputs": [
    {
     "name": "stdout",
     "output_type": "stream",
     "text": [
      "\n",
      "\n",
      "\n",
      "          1日の平均睡眠時間（20歳以上）\n",
      "        \n",
      "男性（n=2,668）\n",
      "\n",
      "          割合\n",
      "        \n",
      "女性（n=3,033）\n",
      "\n",
      "          割合\n",
      "        \n",
      "\n",
      "\n",
      "5時間未満\n",
      "227人\n",
      "8.5%\n",
      "276人\n",
      "9.1%\n",
      "\n",
      "\n",
      "5時間以上6時間未満\n",
      "773人\n",
      "29.0%\n",
      "955人\n",
      "31.5%\n",
      "\n",
      "\n",
      "6時間以上7時間未満\n",
      "873人\n",
      "32.7%\n",
      "1,098人\n",
      "36.2%\n",
      "\n",
      "\n",
      "7時間以上8時間未満\n",
      "536人\n",
      "20.1%\n",
      "510人\n",
      "16.8%\n",
      "\n",
      "\n",
      "8時間以上9時間未満\n",
      "190人\n",
      "7.1%\n",
      "145人\n",
      "4.8%\n",
      "\n",
      "\n",
      "9時間以上\n",
      "69人\n",
      "2.6%\n",
      "49人\n",
      "1.6%\n",
      "\n",
      "\n"
     ]
    }
   ],
   "source": [
    "from os import name\n",
    "import html\n",
    "url = 'https://www.house-direct.jp/column/sleeptime/'\n",
    "r = requests.get(url)\n",
    "r.encoding = 'utf-8'\n",
    "html_soup = BeautifulSoup(r.text,'html.parser')\n",
    "average_list = html_soup.find_all('tbody')\n",
    "for x in average_list:\n",
    "  suimin_list = x.text\n",
    "  print(suimin_list)"
   ]
  },
  {
   "cell_type": "code",
   "execution_count": 3,
   "metadata": {},
   "outputs": [
    {
     "name": "stdout",
     "output_type": "stream",
     "text": [
      "1日の平均睡眠時間（20歳以上）\n",
      "男性（n=2,668）\n",
      "割合\n",
      "女性（n=3,033）\n",
      "割合\n",
      "5時間未満\n",
      "227人\n",
      "8.5%\n",
      "276人\n",
      "9.1%\n",
      "5時間以上6時間未満\n",
      "773人\n",
      "29.0%\n",
      "955人\n",
      "31.5%\n",
      "6時間以上7時間未満\n",
      "873人\n",
      "32.7%\n",
      "1,098人\n",
      "36.2%\n",
      "7時間以上8時間未満\n",
      "536人\n",
      "20.1%\n",
      "510人\n",
      "16.8%\n",
      "8時間以上9時間未満\n",
      "190人\n",
      "7.1%\n",
      "145人\n",
      "4.8%\n",
      "9時間以上\n",
      "69人\n",
      "2.6%\n",
      "49人\n",
      "1.6%\n"
     ]
    }
   ],
   "source": [
    "lines = [line.strip() for line in suimin_list.split('\\n')]\n",
    "non_empty_lines = [line for line in lines if line]\n",
    "formatted_text = '\\n'.join(non_empty_lines)\n",
    "print(formatted_text)"
   ]
  },
  {
   "cell_type": "code",
   "execution_count": 4,
   "metadata": {},
   "outputs": [],
   "source": [
    "import sqlite3"
   ]
  },
  {
   "cell_type": "code",
   "execution_count": 5,
   "metadata": {},
   "outputs": [
    {
     "name": "stdout",
     "output_type": "stream",
     "text": [
      "/Users/kandahiromi/dsprogramming2/DSprogramming2\n"
     ]
    }
   ],
   "source": [
    "!pwd"
   ]
  },
  {
   "cell_type": "code",
   "execution_count": 10,
   "metadata": {},
   "outputs": [],
   "source": [
    "path = '/Users/kandahiromi/dsprogramming2/DSprogramming2'\n",
    "db_name = 'average_sqlite'\n",
    "con = sqlite3.connect(path + db_name)\n",
    "con.close()"
   ]
  },
  {
   "cell_type": "code",
   "execution_count": 11,
   "metadata": {},
   "outputs": [],
   "source": [
    "con = sqlite3.connect(path + db_name)\n",
    "cur = con.cursor()\n",
    "cur.execute('CREATE TABLE IF NOT EXISTS sleep_list_data (sleep_time TEXT);')\n",
    "for sleep_time in non_empty_lines:\n",
    "    cur.execute('INSERT INTO sleep_list_data (sleep_time) VALUES (?)', (sleep_time,))\n",
    "con.commit()\n",
    "con.close()"
   ]
  },
  {
   "cell_type": "code",
   "execution_count": 12,
   "metadata": {},
   "outputs": [
    {
     "name": "stdout",
     "output_type": "stream",
     "text": [
      "('1日の平均睡眠時間（20歳以上）',)\n",
      "('男性（n=2,668）',)\n",
      "('割合',)\n",
      "('女性（n=3,033）',)\n",
      "('割合',)\n",
      "('5時間未満',)\n",
      "('227人',)\n",
      "('8.5%',)\n",
      "('276人',)\n",
      "('9.1%',)\n",
      "('5時間以上6時間未満',)\n",
      "('773人',)\n",
      "('29.0%',)\n",
      "('955人',)\n",
      "('31.5%',)\n",
      "('6時間以上7時間未満',)\n",
      "('873人',)\n",
      "('32.7%',)\n",
      "('1,098人',)\n",
      "('36.2%',)\n",
      "('7時間以上8時間未満',)\n",
      "('536人',)\n",
      "('20.1%',)\n",
      "('510人',)\n",
      "('16.8%',)\n",
      "('8時間以上9時間未満',)\n",
      "('190人',)\n",
      "('7.1%',)\n",
      "('145人',)\n",
      "('4.8%',)\n",
      "('9時間以上',)\n",
      "('69人',)\n",
      "('2.6%',)\n",
      "('49人',)\n",
      "('1.6%',)\n"
     ]
    }
   ],
   "source": [
    "con = sqlite3.connect(path + db_name)\n",
    "cur = con.cursor()\n",
    "sql_select = 'SELECT*FROM sleep_list_data;'\n",
    "cur.execute(sql_select)\n",
    "for r in cur:\n",
    "  print(r)\n",
    "con.close()"
   ]
  },
  {
   "cell_type": "code",
   "execution_count": null,
   "metadata": {},
   "outputs": [],
   "source": [
    "con = sqlite3.connect(path + db_name)\n",
    "cur = con.cursor()\n",
    "cur.execute('CREATE TABLE IF NOT EXISTS time_list_data (sleep_time TEXT);')\n",
    "for sleep_time in formatted_text:\n",
    "  cur.execute('INSERT INTO time_list_data (sleep_time) VALUES (?)', (sleep_time))\n",
    "con.commit()\n",
    "con.close()"
   ]
  }
 ],
 "metadata": {
  "kernelspec": {
   "display_name": "Python 3",
   "language": "python",
   "name": "python3"
  },
  "language_info": {
   "codemirror_mode": {
    "name": "ipython",
    "version": 3
   },
   "file_extension": ".py",
   "mimetype": "text/x-python",
   "name": "python",
   "nbconvert_exporter": "python",
   "pygments_lexer": "ipython3",
   "version": "3.9.6"
  }
 },
 "nbformat": 4,
 "nbformat_minor": 2
}
