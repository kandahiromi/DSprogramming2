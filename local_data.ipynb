{
 "cells": [
  {
   "cell_type": "code",
   "execution_count": 5,
   "metadata": {},
   "outputs": [],
   "source": [
    "import sqlite3"
   ]
  },
  {
   "cell_type": "code",
   "execution_count": 6,
   "metadata": {},
   "outputs": [
    {
     "name": "stdout",
     "output_type": "stream",
     "text": [
      "/Users/kandahiromi/dsprogramming2/DSprogramming2\n"
     ]
    }
   ],
   "source": [
    "!pwd"
   ]
  },
  {
   "cell_type": "code",
   "execution_count": 9,
   "metadata": {},
   "outputs": [],
   "source": [
    "path = '/Users/kandahiromi/dsprogramming2/DSprogramming2'\n",
    "db_name = 'my_sleep'\n",
    "con = sqlite3.connect(path + db_name)\n",
    "con.close()"
   ]
  },
  {
   "cell_type": "code",
   "execution_count": 10,
   "metadata": {},
   "outputs": [],
   "source": [
    "con = sqlite3.connect(path + db_name)\n",
    "cur = con.cursor()\n",
    "sql_create_table_sleep = 'CREATE TABLE sleep(date date, time text);'\n",
    "cur.execute(sql_create_table_sleep)\n",
    "con.close()"
   ]
  },
  {
   "cell_type": "code",
   "execution_count": 11,
   "metadata": {},
   "outputs": [],
   "source": [
    "con = sqlite3.connect(path + db_name)\n",
    "cur = con.cursor()\n",
    "sql_insert_time = \"INSERT INTO sleep VALUES(?, ?);\"\n",
    "sleep_list = [\n",
    "    ('2023-12-25', '11時間'),\n",
    "    ('2023-12-26', '9時間'),\n",
    "    ('2023-12-27', '8時間',),\n",
    "    ('2023-12-28', '8時間'),\n",
    "    ('2023-12-29', '9時間'),\n",
    "    ('2023-12-30', '9時間'),\n",
    "    ('2023-12-31', '6時間'),\n",
    "    ('2024-1-1', '8時間'),\n",
    "    ('2024-1-2', '8時間'),\n",
    "    ('2024-1-3', '6時間'),\n",
    "    ('2024-1-4', '9時間'),\n",
    "    ('2024-1-5', '7時間'),\n",
    "    ('2024-1-6', '8時間'),\n",
    "    ('2024-1-7', '5時間'),\n",
    "    ('2024-1-8', '7時間'),\n",
    "    ('2024-1-9', '6時間'),\n",
    "    ('2024-1-10', '10時間'),\n",
    "    ('2024-1-11', '10時間'),\n",
    "    ('2024-1-12', '9時間'),\n",
    "    ('2024-1-13', '7時間'),\n",
    "    ('2024-1-14', '7時間'),\n",
    "    ('2024-1-15', '6時間'),\n",
    "]\n",
    "cur.executemany(sql_insert_time, sleep_list)\n",
    "con.commit()\n",
    "con.close()"
   ]
  },
  {
   "cell_type": "code",
   "execution_count": 12,
   "metadata": {},
   "outputs": [
    {
     "name": "stdout",
     "output_type": "stream",
     "text": [
      "('2023-12-25', '11時間')\n",
      "('2023-12-26', '9時間')\n",
      "('2023-12-27', '8時間')\n",
      "('2023-12-28', '8時間')\n",
      "('2023-12-29', '9時間')\n",
      "('2023-12-30', '9時間')\n",
      "('2023-12-31', '6時間')\n",
      "('2024-1-1', '8時間')\n",
      "('2024-1-2', '8時間')\n",
      "('2024-1-3', '6時間')\n",
      "('2024-1-4', '9時間')\n",
      "('2024-1-5', '7時間')\n",
      "('2024-1-6', '8時間')\n",
      "('2024-1-7', '5時間')\n",
      "('2024-1-8', '7時間')\n",
      "('2024-1-9', '6時間')\n",
      "('2024-1-10', '10時間')\n",
      "('2024-1-11', '10時間')\n",
      "('2024-1-12', '9時間')\n",
      "('2024-1-13', '7時間')\n",
      "('2024-1-14', '7時間')\n",
      "('2024-1-15', '6時間')\n"
     ]
    }
   ],
   "source": [
    "con = sqlite3.connect(path + db_name)\n",
    "cur = con.cursor()\n",
    "sql_select = 'SELECT*FROM sleep;'\n",
    "cur.execute(sql_select)\n",
    "for r in cur:\n",
    "  print(r)\n",
    "con.close()"
   ]
  }
 ],
 "metadata": {
  "kernelspec": {
   "display_name": "Python 3",
   "language": "python",
   "name": "python3"
  },
  "language_info": {
   "codemirror_mode": {
    "name": "ipython",
    "version": 3
   },
   "file_extension": ".py",
   "mimetype": "text/x-python",
   "name": "python",
   "nbconvert_exporter": "python",
   "pygments_lexer": "ipython3",
   "version": "3.9.6"
  }
 },
 "nbformat": 4,
 "nbformat_minor": 2
}
