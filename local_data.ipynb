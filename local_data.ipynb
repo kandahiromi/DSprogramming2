{
 "cells": [
  {
   "cell_type": "code",
   "execution_count": 14,
   "metadata": {},
   "outputs": [],
   "source": [
    "import sqlite3"
   ]
  },
  {
   "cell_type": "code",
   "execution_count": 15,
   "metadata": {},
   "outputs": [
    {
     "name": "stdout",
     "output_type": "stream",
     "text": [
      "/Users/kandahiromi/dsprogramming2/DSprogramming2\n"
     ]
    }
   ],
   "source": [
    "!pwd"
   ]
  },
  {
   "cell_type": "code",
   "execution_count": 16,
   "metadata": {},
   "outputs": [],
   "source": [
    "path = '/Users/kandahiromi/dsprogramming2/DSprogramming2'\n",
    "db_name = 'my_sleep'\n",
    "con = sqlite3.connect(path + db_name)\n",
    "con.close()"
   ]
  },
  {
   "cell_type": "code",
   "execution_count": 18,
   "metadata": {},
   "outputs": [],
   "source": [
    "con = sqlite3.connect(path + db_name)\n",
    "cur = con.cursor()\n",
    "sql_create_table_sleep = 'CREATE TABLE IF NOT EXISTS sleep(date date, time text);'\n",
    "cur.execute(sql_create_table_sleep)\n",
    "con.close()"
   ]
  },
  {
   "cell_type": "code",
   "execution_count": 19,
   "metadata": {},
   "outputs": [],
   "source": [
    "con = sqlite3.connect(path + db_name)\n",
    "cur = con.cursor()\n",
    "sql_insert_time = \"INSERT INTO sleep VALUES(?, ?);\"\n",
    "sleep_list = [\n",
    "    ('2023-12-25', '11時間'),\n",
    "    ('2023-12-26', '9時間'),\n",
    "    ('2023-12-27', '8時間',),\n",
    "    ('2023-12-28', '8時間'),\n",
    "    ('2023-12-29', '9時間'),\n",
    "    ('2023-12-30', '9時間'),\n",
    "    ('2023-12-31', '6時間'),\n",
    "    ('2024-1-1', '8時間'),\n",
    "    ('2024-1-2', '8時間'),\n",
    "    ('2024-1-3', '6時間'),\n",
    "    ('2024-1-4', '9時間'),\n",
    "    ('2024-1-5', '7時間'),\n",
    "    ('2024-1-6', '8時間'),\n",
    "    ('2024-1-7', '5時間'),\n",
    "    ('2024-1-8', '7時間'),\n",
    "    ('2024-1-9', '6時間'),\n",
    "    ('2024-1-10', '10時間'),\n",
    "    ('2024-1-11', '10時間'),\n",
    "    ('2024-1-12', '9時間'),\n",
    "    ('2024-1-13', '7時間'),\n",
    "    ('2024-1-14', '7時間'),\n",
    "    ('2024-1-15', '6時間'),\n",
    "]\n",
    "cur.executemany(sql_insert_time, sleep_list)\n",
    "con.commit()\n",
    "con.close()"
   ]
  },
  {
   "cell_type": "code",
   "execution_count": 20,
   "metadata": {},
   "outputs": [
    {
     "name": "stdout",
     "output_type": "stream",
     "text": [
      "('2023-12-25', '11時間')\n",
      "('2023-12-26', '9時間')\n",
      "('2023-12-27', '8時間')\n",
      "('2023-12-28', '8時間')\n",
      "('2023-12-29', '9時間')\n",
      "('2023-12-30', '9時間')\n",
      "('2023-12-31', '6時間')\n",
      "('2024-1-1', '8時間')\n",
      "('2024-1-2', '8時間')\n",
      "('2024-1-3', '6時間')\n",
      "('2024-1-4', '9時間')\n",
      "('2024-1-5', '7時間')\n",
      "('2024-1-6', '8時間')\n",
      "('2024-1-7', '5時間')\n",
      "('2024-1-8', '7時間')\n",
      "('2024-1-9', '6時間')\n",
      "('2024-1-10', '10時間')\n",
      "('2024-1-11', '10時間')\n",
      "('2024-1-12', '9時間')\n",
      "('2024-1-13', '7時間')\n",
      "('2024-1-14', '7時間')\n",
      "('2024-1-15', '6時間')\n",
      "('2023-12-25', '11時間')\n",
      "('2023-12-26', '9時間')\n",
      "('2023-12-27', '8時間')\n",
      "('2023-12-28', '8時間')\n",
      "('2023-12-29', '9時間')\n",
      "('2023-12-30', '9時間')\n",
      "('2023-12-31', '6時間')\n",
      "('2024-1-1', '8時間')\n",
      "('2024-1-2', '8時間')\n",
      "('2024-1-3', '6時間')\n",
      "('2024-1-4', '9時間')\n",
      "('2024-1-5', '7時間')\n",
      "('2024-1-6', '8時間')\n",
      "('2024-1-7', '5時間')\n",
      "('2024-1-8', '7時間')\n",
      "('2024-1-9', '6時間')\n",
      "('2024-1-10', '10時間')\n",
      "('2024-1-11', '10時間')\n",
      "('2024-1-12', '9時間')\n",
      "('2024-1-13', '7時間')\n",
      "('2024-1-14', '7時間')\n",
      "('2024-1-15', '6時間')\n"
     ]
    }
   ],
   "source": [
    "con = sqlite3.connect(path + db_name)\n",
    "cur = con.cursor()\n",
    "sql_select = 'SELECT*FROM sleep;'\n",
    "cur.execute(sql_select)\n",
    "for r in cur:\n",
    "  print(r)\n",
    "con.close()"
   ]
  },
  {
   "cell_type": "code",
   "execution_count": 22,
   "metadata": {},
   "outputs": [
    {
     "data": {
      "image/png": "[encoded data removed]",
      "text/plain": [
       "<Figure size 640x480 with 1 Axes>"
      ]
     },
     "metadata": {},
     "output_type": "display_data"
    }
   ],
   "source": [
    "import sqlite3\n",
    "import matplotlib.pyplot as plt\n",
    "\n",
    "con = sqlite3.connect(path + db_name)\n",
    "cur = con.cursor()\n",
    "cur.execute(\"SELECT date, time FROM sleep;\")\n",
    "sleep_data = cur.fetchall()\n",
    "con.close()\n",
    "sleep_hours = [int(time.split('時間')[0]) for date, time in sleep_data]\n",
    "plt.boxplot(sleep_hours, vert=False)\n",
    "plt.title('Sleep Hours Boxplot')\n",
    "plt.xlabel('Hours')\n",
    "plt.show()"
   ]
  },
  {
   "cell_type": "code",
   "execution_count": 24,
   "metadata": {},
   "outputs": [
    {
     "name": "stdout",
     "output_type": "stream",
     "text": [
      "平均睡眠時間: 7.863636363636363 時間\n"
     ]
    }
   ],
   "source": [
    "import sqlite3\n",
    "\n",
    "con = sqlite3.connect(path + db_name)\n",
    "cur = con.cursor()\n",
    "cur.execute(\"SELECT time FROM sleep;\")\n",
    "sleep_times = cur.fetchall()\n",
    "con.close()\n",
    "\n",
    "sleep_hours = [int(time.split('時間')[0]) for (time,) in sleep_times]\n",
    "average_sleep_time = sum(sleep_hours) / len(sleep_hours)\n",
    "print(f\"平均睡眠時間: {average_sleep_time} 時間\")"
   ]
  }
 ],
 "metadata": {
  "kernelspec": {
   "display_name": "Python 3",
   "language": "python",
   "name": "python3"
  },
  "language_info": {
   "codemirror_mode": {
    "name": "ipython",
    "version": 3
   },
   "file_extension": ".py",
   "mimetype": "text/x-python",
   "name": "python",
   "nbconvert_exporter": "python",
   "pygments_lexer": "ipython3",
   "version": "3.9.6"
  }
 },
 "nbformat": 4,
 "nbformat_minor": 2
}
